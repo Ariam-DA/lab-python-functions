{
 "cells": [
  {
   "cell_type": "markdown",
   "id": "25d7736c-ba17-4aff-b6bb-66eba20fbf4e",
   "metadata": {},
   "source": [
    "# Lab | Functions"
   ]
  },
  {
   "cell_type": "markdown",
   "id": "0c581062-8967-4d93-b06e-62833222f930",
   "metadata": {
    "tags": []
   },
   "source": [
    "## Exercise: Managing Customer Orders with Functions\n",
    "\n",
    "In the previous exercise, you improved the code for managing customer orders by using loops and flow control. Now, let's take it a step further and refactor the code by introducing functions.\n",
    "\n",
    "Follow the steps below to complete the exercise:\n",
    "\n",
    "1. Define a function named `initialize_inventory` that takes `products` as a parameter. Inside the function, implement the code for initializing the inventory dictionary using a loop and user input.\n",
    "\n",
    "2. Define a function named `get_customer_orders` that takes no parameters. Inside the function, implement the code for prompting the user to enter the product names using a loop. The function should return the `customer_orders` set.\n",
    "\n",
    "3. Define a function named `update_inventory` that takes `customer_orders` and `inventory` as parameters. Inside the function, implement the code for updating the inventory dictionary based on the customer orders.\n",
    "\n",
    "4. Define a function named `calculate_order_statistics` that takes `customer_orders` and `products` as parameters. Inside the function, implement the code for calculating the order statistics (total products ordered, and percentage of unique products ordered). The function should return these values.\n",
    "\n",
    "5. Define a function named `print_order_statistics` that takes `order_statistics` as a parameter. Inside the function, implement the code for printing the order statistics.\n",
    "\n",
    "6. Define a function named `print_updated_inventory` that takes `inventory` as a parameter. Inside the function, implement the code for printing the updated inventory.\n",
    "\n",
    "7. Call the functions in the appropriate sequence to execute the program and manage customer orders.\n",
    "\n",
    "Hints for functions:\n",
    "\n",
    "- Consider the input parameters required for each function and their return values.\n",
    "- Utilize function parameters and return values to transfer data between functions.\n",
    "- Test your functions individually to ensure they work correctly.\n",
    "\n",
    "\n"
   ]
  },
  {
   "cell_type": "code",
   "execution_count": 2,
   "id": "1b279b4c-7257-4b07-aa25-d698ccefdd20",
   "metadata": {},
   "outputs": [],
   "source": [
    "# Function to initialize the inventory\n",
    "def initialize_inventory(products):\n",
    "    inventory = {}\n",
    "    for product in products:\n",
    "        quantity = int(input(f\"Enter the quantity for {product}: \"))\n",
    "        inventory[product] = quantity\n",
    "    return inventory"
   ]
  },
  {
   "cell_type": "code",
   "execution_count": 4,
   "id": "4ff7b202-c318-4f0f-a7d5-8d0699c7f13d",
   "metadata": {},
   "outputs": [],
   "source": [
    "# Function to get customer orders\n",
    "def get_customer_orders():\n",
    "    customer_orders = set()\n",
    "    while True:\n",
    "        product = input(\"Enter product name to order (or type 'done' to finish): \")\n",
    "        if product.lower() == 'done':\n",
    "            break\n",
    "        customer_orders.add(product)\n",
    "    return customer_orders"
   ]
  },
  {
   "cell_type": "code",
   "execution_count": 6,
   "id": "f1128de0-414d-4ba6-abbd-5161593238ae",
   "metadata": {},
   "outputs": [],
   "source": [
    "# Function to update inventory based on customer orders\n",
    "def update_inventory(customer_orders, inventory):\n",
    "    for product in customer_orders:\n",
    "        if product in inventory and inventory[product] > 0:\n",
    "            inventory[product] -= 1\n",
    "        else:\n",
    "            print(f\"Sorry, {product} is out of stock.\")"
   ]
  },
  {
   "cell_type": "code",
   "execution_count": 8,
   "id": "88638976-44e4-490c-915f-524887bc3633",
   "metadata": {},
   "outputs": [],
   "source": [
    "# Function to calculate order statistics\n",
    "def calculate_order_statistics(customer_orders, products):\n",
    "    total_ordered = len(customer_orders)\n",
    "    unique_products_ordered = len(set(customer_orders))\n",
    "    percentage_unique = (unique_products_ordered / total_ordered) * 100 if total_ordered > 0 else 0\n",
    "    return total_ordered, percentage_unique"
   ]
  },
  {
   "cell_type": "code",
   "execution_count": 12,
   "id": "ac7a7e5f-806a-4c52-a34f-3dc5117025b4",
   "metadata": {},
   "outputs": [],
   "source": [
    "# Function to print order statistics\n",
    "def print_order_statistics(order_statistics):\n",
    "    total_ordered, percentage_unique = order_statistics\n",
    "    print(f\"Total products ordered: {total_ordered}\")\n",
    "    print(f\"Percentage of unique products ordered: {percentage_unique:.2f}%\")"
   ]
  },
  {
   "cell_type": "code",
   "execution_count": 10,
   "id": "7692010d-488f-46e9-b0bb-c5a715596f72",
   "metadata": {},
   "outputs": [],
   "source": [
    "# Function to print updated inventory\n",
    "def print_updated_inventory(inventory):\n",
    "    print(\"Updated inventory:\")\n",
    "    for product, quantity in inventory.items():\n",
    "        print(f\"{product}: {quantity} items left\")"
   ]
  },
  {
   "cell_type": "code",
   "execution_count": 14,
   "id": "871bd6c2-3bab-423c-85a9-7a66a8e8b33f",
   "metadata": {},
   "outputs": [
    {
     "name": "stdin",
     "output_type": "stream",
     "text": [
      "Enter the quantity for t-shirt:  6\n",
      "Enter the quantity for mug:  7\n",
      "Enter the quantity for hat:  5\n",
      "Enter the quantity for book:  4\n",
      "Enter the quantity for keychain:  3\n",
      "Enter product name to order (or type 'done' to finish):  mug\n",
      "Enter product name to order (or type 'done' to finish):  hat\n",
      "Enter product name to order (or type 'done' to finish):  book\n",
      "Enter product name to order (or type 'done' to finish):  keychain\n",
      "Enter product name to order (or type 'done' to finish):  done\n"
     ]
    },
    {
     "name": "stdout",
     "output_type": "stream",
     "text": [
      "Total products ordered: 4\n",
      "Percentage of unique products ordered: 100.00%\n",
      "Updated inventory:\n",
      "t-shirt: 6 items left\n",
      "mug: 6 items left\n",
      "hat: 4 items left\n",
      "book: 3 items left\n",
      "keychain: 2 items left\n"
     ]
    }
   ],
   "source": [
    "# Main program execution\n",
    "def main():\n",
    "    products = [\"t-shirt\", \"mug\", \"hat\", \"book\", \"keychain\"]\n",
    "    inventory={}\n",
    "    \n",
    "    # Step 1: Initialize the inventory\n",
    "    inventory = initialize_inventory(products)\n",
    "    \n",
    "    # Step 2: Get customer orders\n",
    "    customer_orders = get_customer_orders()\n",
    "    \n",
    "    # Step 3: Update inventory based on orders\n",
    "    update_inventory(customer_orders, inventory)\n",
    "    \n",
    "    # Step 4: Calculate order statistics\n",
    "    order_statistics = calculate_order_statistics(customer_orders, products)\n",
    "    \n",
    "    # Step 5: Print order statistics\n",
    "    print_order_statistics(order_statistics)\n",
    "    \n",
    "    # Step 6: Print updated inventory\n",
    "    print_updated_inventory(inventory)\n",
    "\n",
    "# Call main function to execute the program\n",
    "if __name__ == \"__main__\":\n",
    "    main()"
   ]
  }
 ],
 "metadata": {
  "kernelspec": {
   "display_name": "Python 3 (ipykernel)",
   "language": "python",
   "name": "python3"
  },
  "language_info": {
   "codemirror_mode": {
    "name": "ipython",
    "version": 3
   },
   "file_extension": ".py",
   "mimetype": "text/x-python",
   "name": "python",
   "nbconvert_exporter": "python",
   "pygments_lexer": "ipython3",
   "version": "3.12.4"
  }
 },
 "nbformat": 4,
 "nbformat_minor": 5
}
